{
  "cells": [
    {
      "cell_type": "markdown",
      "metadata": {
        "id": "view-in-github"
      },
      "source": [
        "[![Open In Colab](https://colab.research.google.com/assets/colab-badge.svg)](https://colab.research.google.com/github/camenduru/monst3r-jupyter/blob/main/monst3r_jupyter.ipynb)"
      ]
    },
    {
      "cell_type": "code",
      "execution_count": null,
      "metadata": {
        "id": "VjYy0F2gZIPR"
      },
      "outputs": [],
      "source": [
        "!git clone --recursive https://github.com/junyi42/monst3r\n",
        "%cd /content/monst3r\n",
        "!pip install evo gradio roma trimesh\n",
        "!pip install -e third_party/sam2\n",
        "\n",
        "# from dust3r.model import AsymmetricCroCo3DStereo\n",
        "# import torch\n",
        "# model = AsymmetricCroCo3DStereo.from_pretrained(\"Junyi42/MonST3R_PO-TA-S-W_ViTLarge_BaseDecoder_512_dpt\")\n",
        "# device = torch.device(\"cuda\" if torch.cuda.is_available() else \"cpu\")\n",
        "# model.to(device)"
      ]
    },
    {
      "cell_type": "code",
      "execution_count": null,
      "metadata": {},
      "outputs": [],
      "source": [
        "%cd /content/monst3r\n",
        "!python demo.py --input demo_data/lady-running --output_dir demo_tmp --seq_name lady-running"
      ]
    }
  ],
  "metadata": {
    "accelerator": "GPU",
    "colab": {
      "gpuType": "T4",
      "provenance": []
    },
    "kernelspec": {
      "display_name": "Python 3",
      "name": "python3"
    },
    "language_info": {
      "name": "python"
    }
  },
  "nbformat": 4,
  "nbformat_minor": 0
}
